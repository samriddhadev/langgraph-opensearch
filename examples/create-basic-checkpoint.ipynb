{
 "cells": [
  {
   "cell_type": "code",
   "execution_count": 1,
   "id": "36c657e9-7285-4de6-abab-f1109a68d163",
   "metadata": {},
   "outputs": [],
   "source": [
    "import os\n",
    "from typing_extensions import TypedDict\n",
    "from langgraph.graph import StateGraph, START, END, MessagesState\n",
    "from langgraph.checkpoint.opensearch import OpenSearchSaver\n",
    "\n",
    "from langchain_openai import ChatOpenAI\n",
    "\n",
    "from langchain_core.messages import (\n",
    "    AIMessage,\n",
    "    HumanMessage,\n",
    "    SystemMessage,\n",
    ")\n",
    "\n",
    "from opensearchpy import OpenSearch, RequestsHttpConnection\n",
    "from requests_aws4auth import AWS4Auth\n",
    "import boto3"
   ]
  },
  {
   "cell_type": "code",
   "execution_count": 2,
   "id": "baf98e7f-f49f-4ad6-8d5d-e501a92ff4df",
   "metadata": {},
   "outputs": [],
   "source": [
    "region = \"us-east-1\"\n",
    "\n",
    "# Get AWS credentials (from environment, IAM role, or ~/.aws/credentials)\n",
    "session = boto3.Session()\n",
    "credentials = session.get_credentials()\n",
    "awsauth = AWS4Auth(credentials.access_key, credentials.secret_key, region, 'es', session_token=credentials.token)"
   ]
  },
  {
   "cell_type": "code",
   "execution_count": 3,
   "id": "03c8fbc1-d13a-40b5-86f9-54c8f9c1bb1f",
   "metadata": {},
   "outputs": [],
   "source": [
    "llm = ChatOpenAI(\n",
    "    model=\"gpt-4o\",\n",
    "    temperature=0.0,\n",
    "    max_tokens=1000,\n",
    "    streaming=True,\n",
    ")\n",
    "\n",
    "graph = StateGraph(MessagesState)"
   ]
  },
  {
   "cell_type": "code",
   "execution_count": 4,
   "id": "b5728596-2912-40ea-a804-c7b10b334d5e",
   "metadata": {},
   "outputs": [],
   "source": [
    "\n",
    "def ask(state: MessagesState) -> MessagesState:\n",
    "    \"\"\"\n",
    "    Ask a question to the LLM and return the response.\n",
    "    \"\"\"\n",
    "    question = state['messages'][-1].content\n",
    "    response = llm.invoke(\n",
    "        [*state['messages']]\n",
    "    )\n",
    "    return { 'messages': [ AIMessage(content=response.content) ] }"
   ]
  },
  {
   "cell_type": "code",
   "execution_count": 5,
   "id": "ba8c6bc9-b834-4b40-8ded-45d49c1ea213",
   "metadata": {},
   "outputs": [
    {
     "data": {
      "text/plain": [
       "<langgraph.graph.state.StateGraph at 0x2424675f290>"
      ]
     },
     "execution_count": 5,
     "metadata": {},
     "output_type": "execute_result"
    }
   ],
   "source": [
    "graph.add_node('ask', ask)\n",
    "graph.add_edge(START, 'ask')\n",
    "graph.add_edge('ask', END)"
   ]
  },
  {
   "cell_type": "code",
   "execution_count": 6,
   "id": "9ead7614-8f0f-47ed-8b30-181a1de369d6",
   "metadata": {},
   "outputs": [
    {
     "name": "stdout",
     "output_type": "stream",
     "text": [
      "{'messages': [HumanMessage(content='What is the capital of France?', additional_kwargs={}, response_metadata={}, id='abe828c1-5302-453a-8f0c-7631b9664842'), AIMessage(content='The capital of France is Paris.', additional_kwargs={}, response_metadata={}, id='7fd9b7ef-fbc8-4330-95e4-1de659ce826a')]}\n",
      "{'messages': [HumanMessage(content='What is the capital of France?', additional_kwargs={}, response_metadata={}, id='abe828c1-5302-453a-8f0c-7631b9664842'), AIMessage(content='The capital of France is Paris.', additional_kwargs={}, response_metadata={}, id='7fd9b7ef-fbc8-4330-95e4-1de659ce826a'), HumanMessage(content='What are its key attractions?', additional_kwargs={}, response_metadata={}, id='76d178cd-33d3-4e76-a7c3-bfbf63822147'), AIMessage(content=\"Paris is renowned for its numerous iconic attractions. Some of the key ones include:\\n\\n1. **Eiffel Tower**: Perhaps the most famous symbol of Paris, this iron lattice tower offers stunning views of the city.\\n\\n2. **Louvre Museum**: The world's largest art museum, home to thousands of works, including the Mona Lisa and the Venus de Milo.\\n\\n3. **Notre-Dame Cathedral**: A masterpiece of French Gothic architecture, known for its stunning facade and beautiful stained glass windows.\\n\\n4. **Champs-Élysées and Arc de Triomphe**: This famous avenue is lined with shops and cafes, leading up to the monumental Arc de Triomphe.\\n\\n5. **Sacré-Cœur Basilica**: Located at the highest point in the city on Montmartre hill, it offers panoramic views of Paris.\\n\\n6. **Palace of Versailles**: Just outside Paris, this opulent palace is known for its magnificent gardens and the Hall of Mirrors.\\n\\n7. **Seine River Cruises**: A boat tour on the Seine offers a unique perspective of Paris's landmarks.\\n\\n8. **Musée d'Orsay**: Housed in a former railway station, this museum features an extensive collection of Impressionist and Post-Impressionist masterpieces.\\n\\n9. **Montmartre**: A historic district known for its bohemian past, charming streets, and the famous Moulin Rouge.\\n\\n10. **Luxembourg Gardens**: A beautiful public park perfect for a leisurely stroll or a relaxing afternoon.\\n\\nThese attractions, among many others, make Paris a captivating destination for visitors from around the world.\", additional_kwargs={}, response_metadata={}, id='599c54c9-fee7-4401-b7a7-d1b22650edc0')]}\n"
     ]
    }
   ],
   "source": [
    "\n",
    "# Initialize OpenSearchSaver with the graph\n",
    "with OpenSearchSaver.from_conn_string(client_kwargs={\n",
    "    'hosts': [{'host': os.getenv('OSS_HOST'), 'port': 443}],\n",
    "    'http_auth': awsauth,\n",
    "    'use_ssl': True,\n",
    "    'verify_certs': True,\n",
    "    'connection_class': RequestsHttpConnection\n",
    "}) as checkpointer:\n",
    "    \n",
    "    config = {\n",
    "        'configurable': {\n",
    "            'thread_id': '3'\n",
    "        }\n",
    "    }\n",
    "    graph = graph.compile(checkpointer=checkpointer)\n",
    "    # Run the graph with an initial message\n",
    "    response = graph.invoke(\n",
    "        {\n",
    "            \"messages\": [\n",
    "                HumanMessage(content=\"What is the capital of France?\")\n",
    "            ]\n",
    "        },\n",
    "        config\n",
    "    )\n",
    "    print(response)\n",
    "\n",
    "    response = graph.invoke(\n",
    "        {\n",
    "            \"messages\": [\n",
    "                HumanMessage(content=\"What are its key attractions?\")\n",
    "            ]\n",
    "        },\n",
    "        config\n",
    "    )\n",
    "    print(response)"
   ]
  },
  {
   "cell_type": "code",
   "execution_count": null,
   "id": "3b316ebc-0c2a-4087-8794-1e8f003ecd63",
   "metadata": {},
   "outputs": [],
   "source": []
  }
 ],
 "metadata": {
  "kernelspec": {
   "display_name": "Python 3 (ipykernel)",
   "language": "python",
   "name": "python3"
  },
  "language_info": {
   "codemirror_mode": {
    "name": "ipython",
    "version": 3
   },
   "file_extension": ".py",
   "mimetype": "text/x-python",
   "name": "python",
   "nbconvert_exporter": "python",
   "pygments_lexer": "ipython3",
   "version": "3.12.0"
  }
 },
 "nbformat": 4,
 "nbformat_minor": 5
}
